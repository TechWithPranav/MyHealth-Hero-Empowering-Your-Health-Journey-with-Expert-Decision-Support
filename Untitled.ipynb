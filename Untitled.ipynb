{
 "cells": [
  {
   "cell_type": "code",
   "execution_count": 1,
   "id": "73c707cd-91d1-4494-894a-7ca89bccbdfa",
   "metadata": {},
   "outputs": [],
   "source": [
    "import numpy as np \n",
    "import pandas as pd \n",
    "import os\n",
    "for dirname, _, filenames in os.walk('D:\\JNoteBook\\Stress Prediction'):\n",
    "    for filename in filenames:\n",
    "        print(os.path.join(dirname, filename))\n",
    "\n"
   ]
  },
  {
   "cell_type": "code",
   "execution_count": 2,
   "id": "d69edaab-7584-4ab6-991a-8e3d837fcfb7",
   "metadata": {},
   "outputs": [
    {
     "data": {
      "text/html": [
       "<div>\n",
       "<style scoped>\n",
       "    .dataframe tbody tr th:only-of-type {\n",
       "        vertical-align: middle;\n",
       "    }\n",
       "\n",
       "    .dataframe tbody tr th {\n",
       "        vertical-align: top;\n",
       "    }\n",
       "\n",
       "    .dataframe thead th {\n",
       "        text-align: right;\n",
       "    }\n",
       "</style>\n",
       "<table border=\"1\" class=\"dataframe\">\n",
       "  <thead>\n",
       "    <tr style=\"text-align: right;\">\n",
       "      <th></th>\n",
       "      <th>subreddit</th>\n",
       "      <th>post_id</th>\n",
       "      <th>sentence_range</th>\n",
       "      <th>text</th>\n",
       "      <th>label</th>\n",
       "      <th>confidence</th>\n",
       "      <th>social_timestamp</th>\n",
       "    </tr>\n",
       "  </thead>\n",
       "  <tbody>\n",
       "    <tr>\n",
       "      <th>0</th>\n",
       "      <td>ptsd</td>\n",
       "      <td>8601tu</td>\n",
       "      <td>(15, 20)</td>\n",
       "      <td>He said he had not felt that way before, sugge...</td>\n",
       "      <td>1</td>\n",
       "      <td>0.8</td>\n",
       "      <td>1521614353</td>\n",
       "    </tr>\n",
       "    <tr>\n",
       "      <th>1</th>\n",
       "      <td>assistance</td>\n",
       "      <td>8lbrx9</td>\n",
       "      <td>(0, 5)</td>\n",
       "      <td>Hey there r/assistance, Not sure if this is th...</td>\n",
       "      <td>0</td>\n",
       "      <td>1.0</td>\n",
       "      <td>1527009817</td>\n",
       "    </tr>\n",
       "    <tr>\n",
       "      <th>2</th>\n",
       "      <td>ptsd</td>\n",
       "      <td>9ch1zh</td>\n",
       "      <td>(15, 20)</td>\n",
       "      <td>My mom then hit me with the newspaper and it s...</td>\n",
       "      <td>1</td>\n",
       "      <td>0.8</td>\n",
       "      <td>1535935605</td>\n",
       "    </tr>\n",
       "    <tr>\n",
       "      <th>3</th>\n",
       "      <td>relationships</td>\n",
       "      <td>7rorpp</td>\n",
       "      <td>[5, 10]</td>\n",
       "      <td>until i met my new boyfriend, he is amazing, h...</td>\n",
       "      <td>1</td>\n",
       "      <td>0.6</td>\n",
       "      <td>1516429555</td>\n",
       "    </tr>\n",
       "    <tr>\n",
       "      <th>4</th>\n",
       "      <td>survivorsofabuse</td>\n",
       "      <td>9p2gbc</td>\n",
       "      <td>[0, 5]</td>\n",
       "      <td>October is Domestic Violence Awareness Month a...</td>\n",
       "      <td>1</td>\n",
       "      <td>0.8</td>\n",
       "      <td>1539809005</td>\n",
       "    </tr>\n",
       "  </tbody>\n",
       "</table>\n",
       "</div>"
      ],
      "text/plain": [
       "          subreddit post_id sentence_range  \\\n",
       "0              ptsd  8601tu       (15, 20)   \n",
       "1        assistance  8lbrx9         (0, 5)   \n",
       "2              ptsd  9ch1zh       (15, 20)   \n",
       "3     relationships  7rorpp        [5, 10]   \n",
       "4  survivorsofabuse  9p2gbc         [0, 5]   \n",
       "\n",
       "                                                text  label  confidence  \\\n",
       "0  He said he had not felt that way before, sugge...      1         0.8   \n",
       "1  Hey there r/assistance, Not sure if this is th...      0         1.0   \n",
       "2  My mom then hit me with the newspaper and it s...      1         0.8   \n",
       "3  until i met my new boyfriend, he is amazing, h...      1         0.6   \n",
       "4  October is Domestic Violence Awareness Month a...      1         0.8   \n",
       "\n",
       "   social_timestamp  \n",
       "0        1521614353  \n",
       "1        1527009817  \n",
       "2        1535935605  \n",
       "3        1516429555  \n",
       "4        1539809005  "
      ]
     },
     "execution_count": 2,
     "metadata": {},
     "output_type": "execute_result"
    }
   ],
   "source": [
    "df = pd.read_csv(\"StressPredictionDataset.csv\")\n",
    "df.head()"
   ]
  },
  {
   "cell_type": "code",
   "execution_count": 3,
   "id": "bbd8f477-550f-4c98-a21b-57f228578a6c",
   "metadata": {},
   "outputs": [
    {
     "name": "stdout",
     "output_type": "stream",
     "text": [
      "<class 'pandas.core.frame.DataFrame'>\n",
      "RangeIndex: 2838 entries, 0 to 2837\n",
      "Data columns (total 7 columns):\n",
      " #   Column            Non-Null Count  Dtype  \n",
      "---  ------            --------------  -----  \n",
      " 0   subreddit         2838 non-null   object \n",
      " 1   post_id           2838 non-null   object \n",
      " 2   sentence_range    2838 non-null   object \n",
      " 3   text              2838 non-null   object \n",
      " 4   label             2838 non-null   int64  \n",
      " 5   confidence        2838 non-null   float64\n",
      " 6   social_timestamp  2838 non-null   int64  \n",
      "dtypes: float64(1), int64(2), object(4)\n",
      "memory usage: 155.3+ KB\n"
     ]
    },
    {
     "data": {
      "text/plain": [
       "((2838, 7), None)"
      ]
     },
     "execution_count": 3,
     "metadata": {},
     "output_type": "execute_result"
    }
   ],
   "source": [
    "df.shape,df.info()"
   ]
  },
  {
   "cell_type": "code",
   "execution_count": 4,
   "id": "da15b0ec",
   "metadata": {},
   "outputs": [
    {
     "data": {
      "text/html": [
       "<div>\n",
       "<style scoped>\n",
       "    .dataframe tbody tr th:only-of-type {\n",
       "        vertical-align: middle;\n",
       "    }\n",
       "\n",
       "    .dataframe tbody tr th {\n",
       "        vertical-align: top;\n",
       "    }\n",
       "\n",
       "    .dataframe thead th {\n",
       "        text-align: right;\n",
       "    }\n",
       "</style>\n",
       "<table border=\"1\" class=\"dataframe\">\n",
       "  <thead>\n",
       "    <tr style=\"text-align: right;\">\n",
       "      <th></th>\n",
       "      <th>text</th>\n",
       "      <th>label</th>\n",
       "    </tr>\n",
       "  </thead>\n",
       "  <tbody>\n",
       "    <tr>\n",
       "      <th>2648</th>\n",
       "      <td>I have 2 wish lists because Amazon is expensiv...</td>\n",
       "      <td>0</td>\n",
       "    </tr>\n",
       "    <tr>\n",
       "      <th>1888</th>\n",
       "      <td>I am doing a research topic on social media an...</td>\n",
       "      <td>0</td>\n",
       "    </tr>\n",
       "    <tr>\n",
       "      <th>1584</th>\n",
       "      <td>She's sworn at me at times.   **tl;dr**: Girlf...</td>\n",
       "      <td>1</td>\n",
       "    </tr>\n",
       "  </tbody>\n",
       "</table>\n",
       "</div>"
      ],
      "text/plain": [
       "                                                   text  label\n",
       "2648  I have 2 wish lists because Amazon is expensiv...      0\n",
       "1888  I am doing a research topic on social media an...      0\n",
       "1584  She's sworn at me at times.   **tl;dr**: Girlf...      1"
      ]
     },
     "execution_count": 4,
     "metadata": {},
     "output_type": "execute_result"
    }
   ],
   "source": [
    "not_used_cols = ['subreddit','post_id','sentence_range','confidence','social_timestamp']\n",
    "df1 = df.drop(not_used_cols,axis=1)\n",
    "df1.sample(3)"
   ]
  },
  {
   "cell_type": "code",
   "execution_count": 5,
   "id": "672e9181",
   "metadata": {},
   "outputs": [],
   "source": [
    "import nltk\n",
    "import re\n",
    "from urllib.parse import urlparse\n",
    "from spacy import load\n",
    "from nltk.stem import WordNetLemmatizer\n",
    "from nltk.corpus import stopwords\n",
    "from nltk.tokenize import word_tokenize"
   ]
  },
  {
   "cell_type": "code",
   "execution_count": 6,
   "id": "9cec7a50",
   "metadata": {},
   "outputs": [
    {
     "name": "stderr",
     "output_type": "stream",
     "text": [
      "[nltk_data] Downloading package omw-1.4 to\n",
      "[nltk_data]     C:\\Users\\prana\\AppData\\Roaming\\nltk_data...\n",
      "[nltk_data]   Package omw-1.4 is already up-to-date!\n",
      "[nltk_data] Downloading package wordnet to\n",
      "[nltk_data]     C:\\Users\\prana\\AppData\\Roaming\\nltk_data...\n",
      "[nltk_data]   Package wordnet is already up-to-date!\n",
      "[nltk_data] Downloading package wordnet2022 to\n",
      "[nltk_data]     C:\\Users\\prana\\AppData\\Roaming\\nltk_data...\n",
      "[nltk_data]   Package wordnet2022 is already up-to-date!\n",
      "[nltk_data] Downloading package punkt to\n",
      "[nltk_data]     C:\\Users\\prana\\AppData\\Roaming\\nltk_data...\n",
      "[nltk_data]   Package punkt is already up-to-date!\n",
      "[nltk_data] Downloading package stopwords to\n",
      "[nltk_data]     C:\\Users\\prana\\AppData\\Roaming\\nltk_data...\n",
      "[nltk_data]   Package stopwords is already up-to-date!\n",
      "'cp' is not recognized as an internal or external command,\n",
      "operable program or batch file.\n"
     ]
    }
   ],
   "source": [
    "nltk.download('omw-1.4') # Open Multilingual Wordnet, this is an lexical database \n",
    "nltk.download('wordnet') \n",
    "nltk.download('wordnet2022')\n",
    "nltk.download('punkt')\n",
    "nltk.download('stopwords')\n",
    "! cp -rf /usr/share/nltk_data/corpora/wordnet2022 /usr/share/nltk_data/corpora/wordnet"
   ]
  },
  {
   "cell_type": "code",
   "execution_count": 7,
   "id": "df6b91a4",
   "metadata": {},
   "outputs": [
    {
     "data": {
      "text/plain": [
       "array([1, 0], dtype=int64)"
      ]
     },
     "execution_count": 7,
     "metadata": {},
     "output_type": "execute_result"
    }
   ],
   "source": [
    "df1['label'].unique()"
   ]
  },
  {
   "cell_type": "code",
   "execution_count": 8,
   "id": "076987b8",
   "metadata": {},
   "outputs": [
    {
     "name": "stdout",
     "output_type": "stream",
     "text": [
      "['i', 'me', 'my', 'myself', 'we', 'our', 'ours', 'ourselves', 'you', \"you're\", \"you've\", \"you'll\", \"you'd\", 'your', 'yours', 'yourself', 'yourselves', 'he', 'him', 'his', 'himself', 'she', \"she's\", 'her', 'hers', 'herself', 'it', \"it's\", 'its', 'itself', 'they', 'them', 'their', 'theirs', 'themselves', 'what', 'which', 'who', 'whom', 'this', 'that', \"that'll\", 'these', 'those', 'am', 'is', 'are', 'was', 'were', 'be', 'been', 'being', 'have', 'has', 'had', 'having', 'do', 'does', 'did', 'doing', 'a', 'an', 'the', 'and', 'but', 'if', 'or', 'because', 'as', 'until', 'while', 'of', 'at', 'by', 'for', 'with', 'about', 'against', 'between', 'into', 'through', 'during', 'before', 'after', 'above', 'below', 'to', 'from', 'up', 'down', 'in', 'out', 'on', 'off', 'over', 'under', 'again', 'further', 'then', 'once', 'here', 'there', 'when', 'where', 'why', 'how', 'all', 'any', 'both', 'each', 'few', 'more', 'most', 'other', 'some', 'such', 'no', 'nor', 'not', 'only', 'own', 'same', 'so', 'than', 'too', 'very', 's', 't', 'can', 'will', 'just', 'don', \"don't\", 'should', \"should've\", 'now', 'd', 'll', 'm', 'o', 're', 've', 'y', 'ain', 'aren', \"aren't\", 'couldn', \"couldn't\", 'didn', \"didn't\", 'doesn', \"doesn't\", 'hadn', \"hadn't\", 'hasn', \"hasn't\", 'haven', \"haven't\", 'isn', \"isn't\", 'ma', 'mightn', \"mightn't\", 'mustn', \"mustn't\", 'needn', \"needn't\", 'shan', \"shan't\", 'shouldn', \"shouldn't\", 'wasn', \"wasn't\", 'weren', \"weren't\", 'won', \"won't\", 'wouldn', \"wouldn't\"]\n"
     ]
    }
   ],
   "source": [
    "lemmatizer = WordNetLemmatizer()\n",
    "stop_words = list(stopwords.words('english'))\n",
    "print(stop_words)"
   ]
  },
  {
   "cell_type": "code",
   "execution_count": 9,
   "id": "4f2dd966-a2a2-4286-a4b9-20f58c34a4de",
   "metadata": {},
   "outputs": [],
   "source": [
    "def textPocess(sent):\n",
    "    try:\n",
    "        # brackets replacing by space\n",
    "        sent = re.sub('[][)(]',' ',sent)\n",
    "\n",
    "        # url removing\n",
    "        sent = [word for word in sent.split() if not urlparse(word).scheme]\n",
    "        sent = ' '.join(sent)\n",
    "\n",
    "        # removing escap characters\n",
    "        sent = re.sub(r'\\@\\w+','',sent)\n",
    "\n",
    "        # removing html tags \n",
    "        sent = re.sub(re.compile(\"<.*?>\"),'',sent)\n",
    "\n",
    "        # getting only characters and numbers from text\n",
    "        sent = re.sub(\"[^A-Za-z0-9]\",' ',sent)\n",
    "\n",
    "        # lower case all words\n",
    "        sent = sent.lower()\n",
    "        \n",
    "        # strip all words from sentences\n",
    "        sent = [word.strip() for word in sent.split()]\n",
    "        sent = ' '.join(sent)\n",
    "\n",
    "        # word tokenization\n",
    "        tokens = word_tokenize(sent)\n",
    "        \n",
    "        # removing words which are in stopwords\n",
    "        for word in tokens:\n",
    "            if word in stop_words:\n",
    "                tokens.remove(word)\n",
    "        \n",
    "        # lemmatization\n",
    "        sent = [lemmatizer.lemmatize(word) for word in tokens]\n",
    "        sent = ' '.join(sent)\n",
    "        return sent\n",
    "    \n",
    "    except Exception as ex:\n",
    "        print(sent,\"\\n\")\n",
    "        print(\"Error \",ex)\n",
    "    "
   ]
  },
  {
   "cell_type": "code",
   "execution_count": 10,
   "id": "7315dba9-59bb-4b98-9949-27de445e4ba5",
   "metadata": {},
   "outputs": [
    {
     "data": {
      "text/html": [
       "<div>\n",
       "<style scoped>\n",
       "    .dataframe tbody tr th:only-of-type {\n",
       "        vertical-align: middle;\n",
       "    }\n",
       "\n",
       "    .dataframe tbody tr th {\n",
       "        vertical-align: top;\n",
       "    }\n",
       "\n",
       "    .dataframe thead th {\n",
       "        text-align: right;\n",
       "    }\n",
       "</style>\n",
       "<table border=\"1\" class=\"dataframe\">\n",
       "  <thead>\n",
       "    <tr style=\"text-align: right;\">\n",
       "      <th></th>\n",
       "      <th>text</th>\n",
       "      <th>label</th>\n",
       "      <th>processed_text</th>\n",
       "    </tr>\n",
       "  </thead>\n",
       "  <tbody>\n",
       "    <tr>\n",
       "      <th>881</th>\n",
       "      <td>&amp;nbsp; SAR teams, crew and techs, go where nob...</td>\n",
       "      <td>0</td>\n",
       "      <td>nbsp sar team crew tech go nobody else go dave...</td>\n",
       "    </tr>\n",
       "    <tr>\n",
       "      <th>940</th>\n",
       "      <td>I didn't tell anyone, not even my family. I fe...</td>\n",
       "      <td>1</td>\n",
       "      <td>tell anyone even family felt had protect alrea...</td>\n",
       "    </tr>\n",
       "    <tr>\n",
       "      <th>2643</th>\n",
       "      <td>She talked sarcastically about how my life is ...</td>\n",
       "      <td>0</td>\n",
       "      <td>talked sarcastically how life obviously horrib...</td>\n",
       "    </tr>\n",
       "  </tbody>\n",
       "</table>\n",
       "</div>"
      ],
      "text/plain": [
       "                                                   text  label  \\\n",
       "881   &nbsp; SAR teams, crew and techs, go where nob...      0   \n",
       "940   I didn't tell anyone, not even my family. I fe...      1   \n",
       "2643  She talked sarcastically about how my life is ...      0   \n",
       "\n",
       "                                         processed_text  \n",
       "881   nbsp sar team crew tech go nobody else go dave...  \n",
       "940   tell anyone even family felt had protect alrea...  \n",
       "2643  talked sarcastically how life obviously horrib...  "
      ]
     },
     "execution_count": 10,
     "metadata": {},
     "output_type": "execute_result"
    }
   ],
   "source": [
    "df1['processed_text'] = df1['text'].apply(lambda text: textPocess(text))\n",
    "df1.sample(3)"
   ]
  },
  {
   "cell_type": "code",
   "execution_count": 11,
   "id": "683e5dfd-0f24-407f-b484-1350c0cb7ad4",
   "metadata": {},
   "outputs": [
    {
     "name": "stdout",
     "output_type": "stream",
     "text": [
      "without process ---->  With a switch blade and open arms In a sweater vest that covers a ragged undershirt stained with my innocence Through faces that are never the same as the ones I dread finding in the crowd In the night, I rediscover my love of mares and how hoarse I can be in the morning It's the taste of blood but I am not bleeding\n",
      "\n",
      "after process ---->  switch blade open arm a sweater vest cover a ragged undershirt stained innocence face are never same one dread finding crowd the night rediscover my love mare how hoarse can in the morning s the taste blood i not bleeding\n"
     ]
    }
   ],
   "source": [
    "print(\"without process ----> \",df1['text'].iloc[23],end='\\n\\n')\n",
    "print(\"after process ----> \",df1['processed_text'].iloc[23])"
   ]
  },
  {
   "cell_type": "code",
   "execution_count": 12,
   "id": "e37a8b3b-8d01-4b26-8f69-0b41931c8b23",
   "metadata": {},
   "outputs": [],
   "source": [
    "from sklearn.feature_extraction.text import CountVectorizer\n",
    "MIN_DF = 1 "
   ]
  },
  {
   "cell_type": "code",
   "execution_count": 13,
   "id": "142cb65a-b87a-4d33-9a85-288703c926cf",
   "metadata": {},
   "outputs": [
    {
     "data": {
      "text/plain": [
       "array([[0, 0, 0, ..., 0, 0, 0],\n",
       "       [0, 0, 0, ..., 0, 0, 0],\n",
       "       [0, 0, 0, ..., 0, 0, 0],\n",
       "       ...,\n",
       "       [0, 0, 0, ..., 0, 0, 0],\n",
       "       [0, 0, 0, ..., 0, 0, 0],\n",
       "       [0, 0, 0, ..., 0, 0, 0]], dtype=int64)"
      ]
     },
     "execution_count": 13,
     "metadata": {},
     "output_type": "execute_result"
    }
   ],
   "source": [
    "cv = CountVectorizer(min_df=MIN_DF)\n",
    "cv_df = cv.fit_transform(df1['processed_text'])\n",
    "cv_df.toarray()"
   ]
  },
  {
   "cell_type": "code",
   "execution_count": 14,
   "id": "6509a1fb-f0dc-4d1e-8bcf-bd47d5af41d4",
   "metadata": {},
   "outputs": [
    {
     "data": {
      "text/html": [
       "<div>\n",
       "<style scoped>\n",
       "    .dataframe tbody tr th:only-of-type {\n",
       "        vertical-align: middle;\n",
       "    }\n",
       "\n",
       "    .dataframe tbody tr th {\n",
       "        vertical-align: top;\n",
       "    }\n",
       "\n",
       "    .dataframe thead th {\n",
       "        text-align: right;\n",
       "    }\n",
       "</style>\n",
       "<table border=\"1\" class=\"dataframe\">\n",
       "  <thead>\n",
       "    <tr style=\"text-align: right;\">\n",
       "      <th></th>\n",
       "      <th>00</th>\n",
       "      <th>000</th>\n",
       "      <th>02</th>\n",
       "      <th>06</th>\n",
       "      <th>10</th>\n",
       "      <th>100</th>\n",
       "      <th>1000</th>\n",
       "      <th>100kg</th>\n",
       "      <th>100mg</th>\n",
       "      <th>100x</th>\n",
       "      <th>...</th>\n",
       "      <th>zines</th>\n",
       "      <th>zinsser</th>\n",
       "      <th>zip</th>\n",
       "      <th>zofran</th>\n",
       "      <th>zoloft</th>\n",
       "      <th>zombie</th>\n",
       "      <th>zone</th>\n",
       "      <th>zoo</th>\n",
       "      <th>zuko</th>\n",
       "      <th>zumba</th>\n",
       "    </tr>\n",
       "  </thead>\n",
       "  <tbody>\n",
       "    <tr>\n",
       "      <th>0</th>\n",
       "      <td>0</td>\n",
       "      <td>0</td>\n",
       "      <td>0</td>\n",
       "      <td>0</td>\n",
       "      <td>0</td>\n",
       "      <td>0</td>\n",
       "      <td>0</td>\n",
       "      <td>0</td>\n",
       "      <td>0</td>\n",
       "      <td>0</td>\n",
       "      <td>...</td>\n",
       "      <td>0</td>\n",
       "      <td>0</td>\n",
       "      <td>0</td>\n",
       "      <td>0</td>\n",
       "      <td>0</td>\n",
       "      <td>0</td>\n",
       "      <td>0</td>\n",
       "      <td>0</td>\n",
       "      <td>0</td>\n",
       "      <td>0</td>\n",
       "    </tr>\n",
       "    <tr>\n",
       "      <th>1</th>\n",
       "      <td>0</td>\n",
       "      <td>0</td>\n",
       "      <td>0</td>\n",
       "      <td>0</td>\n",
       "      <td>0</td>\n",
       "      <td>0</td>\n",
       "      <td>0</td>\n",
       "      <td>0</td>\n",
       "      <td>0</td>\n",
       "      <td>0</td>\n",
       "      <td>...</td>\n",
       "      <td>0</td>\n",
       "      <td>0</td>\n",
       "      <td>0</td>\n",
       "      <td>0</td>\n",
       "      <td>0</td>\n",
       "      <td>0</td>\n",
       "      <td>0</td>\n",
       "      <td>0</td>\n",
       "      <td>0</td>\n",
       "      <td>0</td>\n",
       "    </tr>\n",
       "    <tr>\n",
       "      <th>2</th>\n",
       "      <td>0</td>\n",
       "      <td>0</td>\n",
       "      <td>0</td>\n",
       "      <td>0</td>\n",
       "      <td>0</td>\n",
       "      <td>0</td>\n",
       "      <td>0</td>\n",
       "      <td>0</td>\n",
       "      <td>0</td>\n",
       "      <td>0</td>\n",
       "      <td>...</td>\n",
       "      <td>0</td>\n",
       "      <td>0</td>\n",
       "      <td>0</td>\n",
       "      <td>0</td>\n",
       "      <td>0</td>\n",
       "      <td>0</td>\n",
       "      <td>0</td>\n",
       "      <td>0</td>\n",
       "      <td>0</td>\n",
       "      <td>0</td>\n",
       "    </tr>\n",
       "  </tbody>\n",
       "</table>\n",
       "<p>3 rows × 10267 columns</p>\n",
       "</div>"
      ],
      "text/plain": [
       "   00  000  02  06  10  100  1000  100kg  100mg  100x  ...  zines  zinsser  \\\n",
       "0   0    0   0   0   0    0     0      0      0     0  ...      0        0   \n",
       "1   0    0   0   0   0    0     0      0      0     0  ...      0        0   \n",
       "2   0    0   0   0   0    0     0      0      0     0  ...      0        0   \n",
       "\n",
       "   zip  zofran  zoloft  zombie  zone  zoo  zuko  zumba  \n",
       "0    0       0       0       0     0    0     0      0  \n",
       "1    0       0       0       0     0    0     0      0  \n",
       "2    0       0       0       0     0    0     0      0  \n",
       "\n",
       "[3 rows x 10267 columns]"
      ]
     },
     "execution_count": 14,
     "metadata": {},
     "output_type": "execute_result"
    }
   ],
   "source": [
    "cv_df = pd.DataFrame(cv_df.toarray(),columns=cv.get_feature_names_out())\n",
    "cv_df.head(3)"
   ]
  },
  {
   "cell_type": "code",
   "execution_count": 15,
   "id": "24984080-dac0-468a-b3e0-01572af633d5",
   "metadata": {},
   "outputs": [],
   "source": [
    "from sklearn.feature_extraction.text import TfidfVectorizer"
   ]
  },
  {
   "cell_type": "code",
   "execution_count": 16,
   "id": "36736383-4299-4856-8dc9-a0d13894d106",
   "metadata": {},
   "outputs": [
    {
     "data": {
      "text/plain": [
       "array([[0., 0., 0., ..., 0., 0., 0.],\n",
       "       [0., 0., 0., ..., 0., 0., 0.],\n",
       "       [0., 0., 0., ..., 0., 0., 0.],\n",
       "       ...,\n",
       "       [0., 0., 0., ..., 0., 0., 0.],\n",
       "       [0., 0., 0., ..., 0., 0., 0.],\n",
       "       [0., 0., 0., ..., 0., 0., 0.]])"
      ]
     },
     "execution_count": 16,
     "metadata": {},
     "output_type": "execute_result"
    }
   ],
   "source": [
    "import joblib\n",
    "tf = TfidfVectorizer(min_df=MIN_DF)\n",
    "tf_df = tf.fit_transform(df1['processed_text'])\n",
    "joblib.dump(tf, \"TfidfVectorizer.joblib\")\n",
    "tf_df.toarray()"
   ]
  },
  {
   "cell_type": "code",
   "execution_count": 17,
   "id": "7d386bd0-4caf-44ee-a93c-641b3a44ea44",
   "metadata": {},
   "outputs": [
    {
     "data": {
      "text/html": [
       "<div>\n",
       "<style scoped>\n",
       "    .dataframe tbody tr th:only-of-type {\n",
       "        vertical-align: middle;\n",
       "    }\n",
       "\n",
       "    .dataframe tbody tr th {\n",
       "        vertical-align: top;\n",
       "    }\n",
       "\n",
       "    .dataframe thead th {\n",
       "        text-align: right;\n",
       "    }\n",
       "</style>\n",
       "<table border=\"1\" class=\"dataframe\">\n",
       "  <thead>\n",
       "    <tr style=\"text-align: right;\">\n",
       "      <th></th>\n",
       "      <th>00</th>\n",
       "      <th>000</th>\n",
       "      <th>02</th>\n",
       "      <th>06</th>\n",
       "      <th>10</th>\n",
       "      <th>100</th>\n",
       "      <th>1000</th>\n",
       "      <th>100kg</th>\n",
       "      <th>100mg</th>\n",
       "      <th>100x</th>\n",
       "      <th>...</th>\n",
       "      <th>zines</th>\n",
       "      <th>zinsser</th>\n",
       "      <th>zip</th>\n",
       "      <th>zofran</th>\n",
       "      <th>zoloft</th>\n",
       "      <th>zombie</th>\n",
       "      <th>zone</th>\n",
       "      <th>zoo</th>\n",
       "      <th>zuko</th>\n",
       "      <th>zumba</th>\n",
       "    </tr>\n",
       "  </thead>\n",
       "  <tbody>\n",
       "    <tr>\n",
       "      <th>0</th>\n",
       "      <td>0.0</td>\n",
       "      <td>0.0</td>\n",
       "      <td>0.0</td>\n",
       "      <td>0.0</td>\n",
       "      <td>0.0</td>\n",
       "      <td>0.0</td>\n",
       "      <td>0.0</td>\n",
       "      <td>0.0</td>\n",
       "      <td>0.0</td>\n",
       "      <td>0.0</td>\n",
       "      <td>...</td>\n",
       "      <td>0.0</td>\n",
       "      <td>0.0</td>\n",
       "      <td>0.0</td>\n",
       "      <td>0.0</td>\n",
       "      <td>0.0</td>\n",
       "      <td>0.0</td>\n",
       "      <td>0.0</td>\n",
       "      <td>0.0</td>\n",
       "      <td>0.0</td>\n",
       "      <td>0.0</td>\n",
       "    </tr>\n",
       "    <tr>\n",
       "      <th>1</th>\n",
       "      <td>0.0</td>\n",
       "      <td>0.0</td>\n",
       "      <td>0.0</td>\n",
       "      <td>0.0</td>\n",
       "      <td>0.0</td>\n",
       "      <td>0.0</td>\n",
       "      <td>0.0</td>\n",
       "      <td>0.0</td>\n",
       "      <td>0.0</td>\n",
       "      <td>0.0</td>\n",
       "      <td>...</td>\n",
       "      <td>0.0</td>\n",
       "      <td>0.0</td>\n",
       "      <td>0.0</td>\n",
       "      <td>0.0</td>\n",
       "      <td>0.0</td>\n",
       "      <td>0.0</td>\n",
       "      <td>0.0</td>\n",
       "      <td>0.0</td>\n",
       "      <td>0.0</td>\n",
       "      <td>0.0</td>\n",
       "    </tr>\n",
       "    <tr>\n",
       "      <th>2</th>\n",
       "      <td>0.0</td>\n",
       "      <td>0.0</td>\n",
       "      <td>0.0</td>\n",
       "      <td>0.0</td>\n",
       "      <td>0.0</td>\n",
       "      <td>0.0</td>\n",
       "      <td>0.0</td>\n",
       "      <td>0.0</td>\n",
       "      <td>0.0</td>\n",
       "      <td>0.0</td>\n",
       "      <td>...</td>\n",
       "      <td>0.0</td>\n",
       "      <td>0.0</td>\n",
       "      <td>0.0</td>\n",
       "      <td>0.0</td>\n",
       "      <td>0.0</td>\n",
       "      <td>0.0</td>\n",
       "      <td>0.0</td>\n",
       "      <td>0.0</td>\n",
       "      <td>0.0</td>\n",
       "      <td>0.0</td>\n",
       "    </tr>\n",
       "  </tbody>\n",
       "</table>\n",
       "<p>3 rows × 10267 columns</p>\n",
       "</div>"
      ],
      "text/plain": [
       "    00  000   02   06   10  100  1000  100kg  100mg  100x  ...  zines  \\\n",
       "0  0.0  0.0  0.0  0.0  0.0  0.0   0.0    0.0    0.0   0.0  ...    0.0   \n",
       "1  0.0  0.0  0.0  0.0  0.0  0.0   0.0    0.0    0.0   0.0  ...    0.0   \n",
       "2  0.0  0.0  0.0  0.0  0.0  0.0   0.0    0.0    0.0   0.0  ...    0.0   \n",
       "\n",
       "   zinsser  zip  zofran  zoloft  zombie  zone  zoo  zuko  zumba  \n",
       "0      0.0  0.0     0.0     0.0     0.0   0.0  0.0   0.0    0.0  \n",
       "1      0.0  0.0     0.0     0.0     0.0   0.0  0.0   0.0    0.0  \n",
       "2      0.0  0.0     0.0     0.0     0.0   0.0  0.0   0.0    0.0  \n",
       "\n",
       "[3 rows x 10267 columns]"
      ]
     },
     "execution_count": 17,
     "metadata": {},
     "output_type": "execute_result"
    }
   ],
   "source": [
    "tf_df = pd.DataFrame(tf_df.toarray(),columns=tf.get_feature_names_out())\n",
    "tf_df.head(3)"
   ]
  },
  {
   "cell_type": "code",
   "execution_count": 18,
   "id": "18895280-241e-4c66-8f12-d070fdfd7bad",
   "metadata": {},
   "outputs": [
    {
     "data": {
      "text/html": [
       "<div>\n",
       "<style scoped>\n",
       "    .dataframe tbody tr th:only-of-type {\n",
       "        vertical-align: middle;\n",
       "    }\n",
       "\n",
       "    .dataframe tbody tr th {\n",
       "        vertical-align: top;\n",
       "    }\n",
       "\n",
       "    .dataframe thead th {\n",
       "        text-align: right;\n",
       "    }\n",
       "</style>\n",
       "<table border=\"1\" class=\"dataframe\">\n",
       "  <thead>\n",
       "    <tr style=\"text-align: right;\">\n",
       "      <th></th>\n",
       "      <th>00</th>\n",
       "      <th>000</th>\n",
       "      <th>02</th>\n",
       "      <th>06</th>\n",
       "      <th>10</th>\n",
       "      <th>100</th>\n",
       "      <th>1000</th>\n",
       "      <th>100kg</th>\n",
       "      <th>100mg</th>\n",
       "      <th>100x</th>\n",
       "      <th>...</th>\n",
       "      <th>zines</th>\n",
       "      <th>zinsser</th>\n",
       "      <th>zip</th>\n",
       "      <th>zofran</th>\n",
       "      <th>zoloft</th>\n",
       "      <th>zombie</th>\n",
       "      <th>zone</th>\n",
       "      <th>zoo</th>\n",
       "      <th>zuko</th>\n",
       "      <th>zumba</th>\n",
       "    </tr>\n",
       "  </thead>\n",
       "  <tbody>\n",
       "    <tr>\n",
       "      <th>count</th>\n",
       "      <td>2838.000000</td>\n",
       "      <td>2838.000000</td>\n",
       "      <td>2838.000000</td>\n",
       "      <td>2838.000000</td>\n",
       "      <td>2838.000000</td>\n",
       "      <td>2838.000000</td>\n",
       "      <td>2838.000000</td>\n",
       "      <td>2838.000000</td>\n",
       "      <td>2838.000000</td>\n",
       "      <td>2838.000000</td>\n",
       "      <td>...</td>\n",
       "      <td>2838.000000</td>\n",
       "      <td>2838.000000</td>\n",
       "      <td>2838.000000</td>\n",
       "      <td>2838.000000</td>\n",
       "      <td>2838.000000</td>\n",
       "      <td>2838.000000</td>\n",
       "      <td>2838.000000</td>\n",
       "      <td>2838.000000</td>\n",
       "      <td>2838.000000</td>\n",
       "      <td>2838.000000</td>\n",
       "    </tr>\n",
       "    <tr>\n",
       "      <th>mean</th>\n",
       "      <td>0.000162</td>\n",
       "      <td>0.000548</td>\n",
       "      <td>0.000109</td>\n",
       "      <td>0.000069</td>\n",
       "      <td>0.003244</td>\n",
       "      <td>0.001784</td>\n",
       "      <td>0.000576</td>\n",
       "      <td>0.000106</td>\n",
       "      <td>0.000115</td>\n",
       "      <td>0.000067</td>\n",
       "      <td>...</td>\n",
       "      <td>0.000078</td>\n",
       "      <td>0.000072</td>\n",
       "      <td>0.000204</td>\n",
       "      <td>0.000078</td>\n",
       "      <td>0.000715</td>\n",
       "      <td>0.000126</td>\n",
       "      <td>0.000245</td>\n",
       "      <td>0.000089</td>\n",
       "      <td>0.000054</td>\n",
       "      <td>0.000040</td>\n",
       "    </tr>\n",
       "    <tr>\n",
       "      <th>std</th>\n",
       "      <td>0.006128</td>\n",
       "      <td>0.009998</td>\n",
       "      <td>0.005801</td>\n",
       "      <td>0.003671</td>\n",
       "      <td>0.020994</td>\n",
       "      <td>0.017215</td>\n",
       "      <td>0.011156</td>\n",
       "      <td>0.005624</td>\n",
       "      <td>0.004534</td>\n",
       "      <td>0.003573</td>\n",
       "      <td>...</td>\n",
       "      <td>0.004144</td>\n",
       "      <td>0.003841</td>\n",
       "      <td>0.007786</td>\n",
       "      <td>0.004157</td>\n",
       "      <td>0.011797</td>\n",
       "      <td>0.004733</td>\n",
       "      <td>0.006851</td>\n",
       "      <td>0.004754</td>\n",
       "      <td>0.002873</td>\n",
       "      <td>0.002105</td>\n",
       "    </tr>\n",
       "    <tr>\n",
       "      <th>min</th>\n",
       "      <td>0.000000</td>\n",
       "      <td>0.000000</td>\n",
       "      <td>0.000000</td>\n",
       "      <td>0.000000</td>\n",
       "      <td>0.000000</td>\n",
       "      <td>0.000000</td>\n",
       "      <td>0.000000</td>\n",
       "      <td>0.000000</td>\n",
       "      <td>0.000000</td>\n",
       "      <td>0.000000</td>\n",
       "      <td>...</td>\n",
       "      <td>0.000000</td>\n",
       "      <td>0.000000</td>\n",
       "      <td>0.000000</td>\n",
       "      <td>0.000000</td>\n",
       "      <td>0.000000</td>\n",
       "      <td>0.000000</td>\n",
       "      <td>0.000000</td>\n",
       "      <td>0.000000</td>\n",
       "      <td>0.000000</td>\n",
       "      <td>0.000000</td>\n",
       "    </tr>\n",
       "    <tr>\n",
       "      <th>25%</th>\n",
       "      <td>0.000000</td>\n",
       "      <td>0.000000</td>\n",
       "      <td>0.000000</td>\n",
       "      <td>0.000000</td>\n",
       "      <td>0.000000</td>\n",
       "      <td>0.000000</td>\n",
       "      <td>0.000000</td>\n",
       "      <td>0.000000</td>\n",
       "      <td>0.000000</td>\n",
       "      <td>0.000000</td>\n",
       "      <td>...</td>\n",
       "      <td>0.000000</td>\n",
       "      <td>0.000000</td>\n",
       "      <td>0.000000</td>\n",
       "      <td>0.000000</td>\n",
       "      <td>0.000000</td>\n",
       "      <td>0.000000</td>\n",
       "      <td>0.000000</td>\n",
       "      <td>0.000000</td>\n",
       "      <td>0.000000</td>\n",
       "      <td>0.000000</td>\n",
       "    </tr>\n",
       "    <tr>\n",
       "      <th>50%</th>\n",
       "      <td>0.000000</td>\n",
       "      <td>0.000000</td>\n",
       "      <td>0.000000</td>\n",
       "      <td>0.000000</td>\n",
       "      <td>0.000000</td>\n",
       "      <td>0.000000</td>\n",
       "      <td>0.000000</td>\n",
       "      <td>0.000000</td>\n",
       "      <td>0.000000</td>\n",
       "      <td>0.000000</td>\n",
       "      <td>...</td>\n",
       "      <td>0.000000</td>\n",
       "      <td>0.000000</td>\n",
       "      <td>0.000000</td>\n",
       "      <td>0.000000</td>\n",
       "      <td>0.000000</td>\n",
       "      <td>0.000000</td>\n",
       "      <td>0.000000</td>\n",
       "      <td>0.000000</td>\n",
       "      <td>0.000000</td>\n",
       "      <td>0.000000</td>\n",
       "    </tr>\n",
       "    <tr>\n",
       "      <th>75%</th>\n",
       "      <td>0.000000</td>\n",
       "      <td>0.000000</td>\n",
       "      <td>0.000000</td>\n",
       "      <td>0.000000</td>\n",
       "      <td>0.000000</td>\n",
       "      <td>0.000000</td>\n",
       "      <td>0.000000</td>\n",
       "      <td>0.000000</td>\n",
       "      <td>0.000000</td>\n",
       "      <td>0.000000</td>\n",
       "      <td>...</td>\n",
       "      <td>0.000000</td>\n",
       "      <td>0.000000</td>\n",
       "      <td>0.000000</td>\n",
       "      <td>0.000000</td>\n",
       "      <td>0.000000</td>\n",
       "      <td>0.000000</td>\n",
       "      <td>0.000000</td>\n",
       "      <td>0.000000</td>\n",
       "      <td>0.000000</td>\n",
       "      <td>0.000000</td>\n",
       "    </tr>\n",
       "    <tr>\n",
       "      <th>max</th>\n",
       "      <td>0.252083</td>\n",
       "      <td>0.327600</td>\n",
       "      <td>0.309059</td>\n",
       "      <td>0.195549</td>\n",
       "      <td>0.260810</td>\n",
       "      <td>0.267280</td>\n",
       "      <td>0.310333</td>\n",
       "      <td>0.299611</td>\n",
       "      <td>0.215015</td>\n",
       "      <td>0.190366</td>\n",
       "      <td>...</td>\n",
       "      <td>0.220738</td>\n",
       "      <td>0.204637</td>\n",
       "      <td>0.336073</td>\n",
       "      <td>0.221471</td>\n",
       "      <td>0.306537</td>\n",
       "      <td>0.183347</td>\n",
       "      <td>0.268149</td>\n",
       "      <td>0.253283</td>\n",
       "      <td>0.153067</td>\n",
       "      <td>0.112129</td>\n",
       "    </tr>\n",
       "  </tbody>\n",
       "</table>\n",
       "<p>8 rows × 10267 columns</p>\n",
       "</div>"
      ],
      "text/plain": [
       "                00          000           02           06           10  \\\n",
       "count  2838.000000  2838.000000  2838.000000  2838.000000  2838.000000   \n",
       "mean      0.000162     0.000548     0.000109     0.000069     0.003244   \n",
       "std       0.006128     0.009998     0.005801     0.003671     0.020994   \n",
       "min       0.000000     0.000000     0.000000     0.000000     0.000000   \n",
       "25%       0.000000     0.000000     0.000000     0.000000     0.000000   \n",
       "50%       0.000000     0.000000     0.000000     0.000000     0.000000   \n",
       "75%       0.000000     0.000000     0.000000     0.000000     0.000000   \n",
       "max       0.252083     0.327600     0.309059     0.195549     0.260810   \n",
       "\n",
       "               100         1000        100kg        100mg         100x  ...  \\\n",
       "count  2838.000000  2838.000000  2838.000000  2838.000000  2838.000000  ...   \n",
       "mean      0.001784     0.000576     0.000106     0.000115     0.000067  ...   \n",
       "std       0.017215     0.011156     0.005624     0.004534     0.003573  ...   \n",
       "min       0.000000     0.000000     0.000000     0.000000     0.000000  ...   \n",
       "25%       0.000000     0.000000     0.000000     0.000000     0.000000  ...   \n",
       "50%       0.000000     0.000000     0.000000     0.000000     0.000000  ...   \n",
       "75%       0.000000     0.000000     0.000000     0.000000     0.000000  ...   \n",
       "max       0.267280     0.310333     0.299611     0.215015     0.190366  ...   \n",
       "\n",
       "             zines      zinsser          zip       zofran       zoloft  \\\n",
       "count  2838.000000  2838.000000  2838.000000  2838.000000  2838.000000   \n",
       "mean      0.000078     0.000072     0.000204     0.000078     0.000715   \n",
       "std       0.004144     0.003841     0.007786     0.004157     0.011797   \n",
       "min       0.000000     0.000000     0.000000     0.000000     0.000000   \n",
       "25%       0.000000     0.000000     0.000000     0.000000     0.000000   \n",
       "50%       0.000000     0.000000     0.000000     0.000000     0.000000   \n",
       "75%       0.000000     0.000000     0.000000     0.000000     0.000000   \n",
       "max       0.220738     0.204637     0.336073     0.221471     0.306537   \n",
       "\n",
       "            zombie         zone          zoo         zuko        zumba  \n",
       "count  2838.000000  2838.000000  2838.000000  2838.000000  2838.000000  \n",
       "mean      0.000126     0.000245     0.000089     0.000054     0.000040  \n",
       "std       0.004733     0.006851     0.004754     0.002873     0.002105  \n",
       "min       0.000000     0.000000     0.000000     0.000000     0.000000  \n",
       "25%       0.000000     0.000000     0.000000     0.000000     0.000000  \n",
       "50%       0.000000     0.000000     0.000000     0.000000     0.000000  \n",
       "75%       0.000000     0.000000     0.000000     0.000000     0.000000  \n",
       "max       0.183347     0.268149     0.253283     0.153067     0.112129  \n",
       "\n",
       "[8 rows x 10267 columns]"
      ]
     },
     "execution_count": 18,
     "metadata": {},
     "output_type": "execute_result"
    }
   ],
   "source": [
    "tf_df.describe()"
   ]
  },
  {
   "cell_type": "code",
   "execution_count": 19,
   "id": "f0b1eabb-5551-4610-885a-67bfaa11a265",
   "metadata": {},
   "outputs": [
    {
     "data": {
      "text/plain": [
       "((2838, 10267), (2838, 10267))"
      ]
     },
     "execution_count": 19,
     "metadata": {},
     "output_type": "execute_result"
    }
   ],
   "source": [
    "cv_df.shape,tf_df.shape"
   ]
  },
  {
   "cell_type": "code",
   "execution_count": 20,
   "id": "17685d24-131c-48a5-9dfd-a671c19d3bbd",
   "metadata": {},
   "outputs": [],
   "source": [
    "from sklearn.model_selection import train_test_split\n",
    "from sklearn.linear_model import LogisticRegression\n",
    "from sklearn.naive_bayes import MultinomialNB\n",
    "from sklearn.ensemble import RandomForestClassifier\n",
    "import warnings\n",
    "warnings.filterwarnings('ignore')"
   ]
  },
  {
   "cell_type": "code",
   "execution_count": 21,
   "id": "33944138-1236-4d92-9ecf-3e9fb5167446",
   "metadata": {},
   "outputs": [
    {
     "data": {
      "text/plain": [
       "((2128, 10267), (710,))"
      ]
     },
     "execution_count": 21,
     "metadata": {},
     "output_type": "execute_result"
    }
   ],
   "source": [
    "X_train,X_test,y_train,y_test = train_test_split(cv_df,df1['label'],stratify=df1['label'])\n",
    "X_train.shape,y_test.shape"
   ]
  },
  {
   "cell_type": "code",
   "execution_count": 22,
   "id": "51b8ac1b-199c-428f-8e39-c820077239d3",
   "metadata": {},
   "outputs": [
    {
     "data": {
      "text/plain": [
       "(0.9981203007518797, 0.7211267605633803)"
      ]
     },
     "execution_count": 22,
     "metadata": {},
     "output_type": "execute_result"
    }
   ],
   "source": [
    "model_lr = LogisticRegression().fit(X_train,y_train)\n",
    "model_lr.score(X_train,y_train),model_lr.score(X_test,y_test)"
   ]
  },
  {
   "cell_type": "code",
   "execution_count": 23,
   "id": "d12a08e3-8427-445f-b0cb-560738661c72",
   "metadata": {},
   "outputs": [
    {
     "data": {
      "text/plain": [
       "(0.924812030075188, 0.7647887323943662)"
      ]
     },
     "execution_count": 23,
     "metadata": {},
     "output_type": "execute_result"
    }
   ],
   "source": [
    "model_nb = MultinomialNB().fit(X_train,y_train)\n",
    "model_nb.score(X_train,y_train),model_nb.score(X_test,y_test)"
   ]
  },
  {
   "cell_type": "code",
   "execution_count": 24,
   "id": "fe4c33fa-1f05-4a7e-a940-8426317af8cf",
   "metadata": {},
   "outputs": [
    {
     "data": {
      "text/plain": [
       "(0.9990601503759399, 0.7253521126760564)"
      ]
     },
     "execution_count": 24,
     "metadata": {},
     "output_type": "execute_result"
    }
   ],
   "source": [
    "model_rf = RandomForestClassifier().fit(X_train,y_train)\n",
    "model_rf.score(X_train,y_train),model_rf.score(X_test,y_test)"
   ]
  },
  {
   "cell_type": "code",
   "execution_count": 25,
   "id": "7f4ed881-5248-4a5e-a2d3-588e68c3b816",
   "metadata": {},
   "outputs": [
    {
     "data": {
      "text/plain": [
       "((2128, 10267), (710,))"
      ]
     },
     "execution_count": 25,
     "metadata": {},
     "output_type": "execute_result"
    }
   ],
   "source": [
    "X_train1,X_test1,y_train1,y_test1 = train_test_split(tf_df,df1['label'],stratify=df1['label'])\n",
    "X_train1.shape,y_test1.shape"
   ]
  },
  {
   "cell_type": "code",
   "execution_count": 26,
   "id": "0eada53a-a552-4a10-bc06-337ec1eb25ea",
   "metadata": {},
   "outputs": [
    {
     "data": {
      "text/plain": [
       "(0.9125939849624061, 0.7436619718309859)"
      ]
     },
     "execution_count": 26,
     "metadata": {},
     "output_type": "execute_result"
    }
   ],
   "source": [
    "model_lr = LogisticRegression().fit(X_train1,y_train1)\n",
    "model_lr.score(X_train1,y_train1),model_lr.score(X_test1,y_test1)"
   ]
  },
  {
   "cell_type": "code",
   "execution_count": 27,
   "id": "03c49b1a-8e11-4b0a-b825-452b06458a92",
   "metadata": {},
   "outputs": [
    {
     "data": {
      "text/plain": [
       "(0.8472744360902256, 0.671830985915493)"
      ]
     },
     "execution_count": 27,
     "metadata": {},
     "output_type": "execute_result"
    }
   ],
   "source": [
    "model_nb = MultinomialNB().fit(X_train1,y_train1)\n",
    "model_nb.score(X_train1,y_train1),model_nb.score(X_test1,y_test1)"
   ]
  },
  {
   "cell_type": "code",
   "execution_count": 28,
   "id": "872d07be-f1d7-4f6d-ae23-c0f7b5bd0d6e",
   "metadata": {},
   "outputs": [],
   "source": [
    "import matplotlib.pyplot as plt\n",
    "import seaborn as sns\n",
    "from sklearn.metrics import confusion_matrix,classification_report"
   ]
  },
  {
   "cell_type": "code",
   "execution_count": 29,
   "id": "9e73ebd4-f581-4b39-8961-b74de4ba3753",
   "metadata": {},
   "outputs": [
    {
     "data": {
      "text/plain": [
       "array([[234,  78],\n",
       "       [104, 294]], dtype=int64)"
      ]
     },
     "execution_count": 29,
     "metadata": {},
     "output_type": "execute_result"
    }
   ],
   "source": [
    "y_pred = model_lr.predict(X_test1)\n",
    "cm = confusion_matrix(y_pred,y_test1)\n",
    "cm"
   ]
  },
  {
   "cell_type": "code",
   "execution_count": 30,
   "id": "0defd07f-8303-4c83-afa4-73b185799ace",
   "metadata": {},
   "outputs": [
    {
     "data": {
      "image/png": "[encoded data removed]",
      "text/plain": [
       "<Figure size 640x480 with 2 Axes>"
      ]
     },
     "metadata": {},
     "output_type": "display_data"
    }
   ],
   "source": [
    "sns.heatmap(cm,annot=True,fmt='')\n",
    "plt.xlabel(\"Predicted\")\n",
    "plt.ylabel(\"True\")\n",
    "plt.show()"
   ]
  },
  {
   "cell_type": "code",
   "execution_count": 31,
   "id": "684fc02b-ab1a-4e39-ba85-735a2502c244",
   "metadata": {},
   "outputs": [
    {
     "name": "stdout",
     "output_type": "stream",
     "text": [
      "              precision    recall  f1-score   support\n",
      "\n",
      "           0       0.69      0.75      0.72       312\n",
      "           1       0.79      0.74      0.76       398\n",
      "\n",
      "    accuracy                           0.74       710\n",
      "   macro avg       0.74      0.74      0.74       710\n",
      "weighted avg       0.75      0.74      0.74       710\n",
      "\n"
     ]
    }
   ],
   "source": [
    "print(classification_report(y_pred,y_test1))"
   ]
  },
  {
   "cell_type": "code",
   "execution_count": 32,
   "id": "50e5240d-d498-49f0-b927-6e76386c56fd",
   "metadata": {},
   "outputs": [
    {
     "data": {
      "text/plain": [
       "0.8999295278365046"
      ]
     },
     "execution_count": 32,
     "metadata": {},
     "output_type": "execute_result"
    }
   ],
   "source": [
    "model = LogisticRegression().fit(tf_df,df1['label'])\n",
    "model.score(tf_df,df1['label'])"
   ]
  },
  {
   "cell_type": "code",
   "execution_count": 33,
   "id": "2d76f771-b903-40cf-ba87-62eb3e79cd80",
   "metadata": {},
   "outputs": [],
   "source": [
    "def predictor(text):\n",
    "    processed = textPocess(text)\n",
    "    embedded_words = tf.transform([text])\n",
    "    res = model.predict(embedded_words)\n",
    "    if res[0] == 1:\n",
    "        res = \"this person is in stress\"\n",
    "    else:\n",
    "        res = \"this person is not in stress\"\n",
    "    return res"
   ]
  },
  {
   "cell_type": "code",
   "execution_count": 34,
   "id": "0cff6696-39a8-42bb-9ccc-34755c1e2748",
   "metadata": {},
   "outputs": [],
   "source": [
    "text1 = \"\"\"This is the worst thing that happened to me today. I got less marks in my exam, \n",
    "            so it is not going to help me in my future.\"\"\"\n",
    "text2 = \"\"\"Hi Shashank sir, I gained a lot of knowledge from you for my future use. \n",
    "            This was a very fun journey for me. Thanks for boosting my confidence.\"\"\"\n",
    "\n",
    "text3 = \"\"\"\n",
    "User: Hi, I need help!\n",
    "\n",
    "Chatbot: Of course, what can I assist you with?\n",
    "\n",
    "User: I have a deadline tomorrow and I haven't even started on my project yet. I'm freaking out!\n",
    "\n",
    "Chatbot: Okay, take a deep breath. Let's start by breaking down the project into smaller tasks. \n",
    "What do you need to do first?\n",
    "\n",
    "User: I need to gather some research and data, but I don't even know where to start!\n",
    "\n",
    "Chatbot: No problem. Let's begin by outlining the main points of your project, \n",
    "\n",
    "and then we can find the resources you need to complete each section. Can you tell me more about your project?\n",
    "\n",
    "User: It's a marketing report for my boss. I need to analyze our competitors and come up with a new marketing strategy.\n",
    "\n",
    "Chatbot: Great, that gives us a good starting point. \n",
    "\n",
    "Let's look for industry reports and market research that can give you insights into your competitors. \n",
    "\n",
    "And don't forget to take breaks and pace yourself as you work on each section. You got this!\"\"\"\n",
    "\n",
    "text4 = \"\"\"\n",
    "User: Hi there! How are you doing today?\n",
    "\n",
    "Chatbot: Hello! I'm doing well, thanks for asking. How about you?\n",
    "\n",
    "User: I'm doing pretty well too, thanks. I just wanted to ask you a question about your service.\n",
    "\n",
    "Chatbot: Of course, I'm here to help. What can I assist you with?\n",
    "\n",
    "User: I'm interested in learning more about your pricing options. Can you provide me with some information?\n",
    "\n",
    "Chatbot: Absolutely! We have several different pricing plans depending on your needs. \n",
    "\n",
    "Would you like me to send you a link to our pricing page?\n",
    "\n",
    "User: Yes, that would be great. Also, do you offer any discounts or promotions?\n",
    "\n",
    "Chatbot: Yes, we do offer discounts for long-term contracts and for certain types of organizations. \n",
    "\n",
    "Would you like me to provide more details?\n",
    "\n",
    "User: That would be helpful, thank you.\n",
    "\n",
    "Chatbot: Sure thing! Our team can provide you with all the information you need to make an informed decision. \n",
    "\n",
    "Is there anything else I can help you with today?\"\"\"\n",
    "\n",
    "text5 = \"\"\"I want to die\"\"\""
   ]
  },
  {
   "cell_type": "code",
   "execution_count": 35,
   "id": "80b88745-3be3-49fa-91d1-0ec25ecca1b0",
   "metadata": {},
   "outputs": [
    {
     "name": "stdout",
     "output_type": "stream",
     "text": [
      "this person is in stress\n",
      "this person is not in stress\n",
      "this person is in stress\n",
      "this person is in stress\n"
     ]
    }
   ],
   "source": [
    "print(predictor(text1))\n",
    "print(predictor(text2))\n",
    "print(predictor(text3))\n",
    "print(predictor(text5))"
   ]
  },
  {
   "cell_type": "code",
   "execution_count": 36,
   "id": "d4d8518e",
   "metadata": {},
   "outputs": [
    {
     "data": {
      "text/plain": [
       "['StressidentificationNLP']"
      ]
     },
     "execution_count": 36,
     "metadata": {},
     "output_type": "execute_result"
    }
   ],
   "source": [
    "import joblib\n",
    "joblib.dump(model,\"StressidentificationNLP\")"
   ]
  },
  {
   "cell_type": "code",
   "execution_count": 37,
   "id": "59c607d6",
   "metadata": {},
   "outputs": [],
   "source": [
    "# loaded_model = joblib.load(\"StressidentificationNLP\")\n",
    "\n",
    "# input_text = tf.transform([\"I want to die\"])\n",
    "\n",
    "# # Use the loaded model to make predictions\n",
    "# prediction = loaded_model.predict(input_text)\n",
    "\n",
    "# # Print the prediction\n",
    "# print(prediction)"
   ]
  },
  {
   "cell_type": "code",
   "execution_count": 38,
   "id": "19ed7809",
   "metadata": {},
   "outputs": [],
   "source": [
    "import pickle\n",
    "with open('model_pickle','wb') as f:\n",
    "    pickle.dump(model,f)"
   ]
  },
  {
   "cell_type": "code",
   "execution_count": null,
   "id": "398838d3",
   "metadata": {},
   "outputs": [],
   "source": []
  },
  {
   "cell_type": "code",
   "execution_count": null,
   "id": "56559408",
   "metadata": {},
   "outputs": [],
   "source": []
  },
  {
   "cell_type": "code",
   "execution_count": null,
   "id": "6c2856d3",
   "metadata": {},
   "outputs": [],
   "source": []
  }
 ],
 "metadata": {
  "kernelspec": {
   "display_name": "Python 3 (ipykernel)",
   "language": "python",
   "name": "python3"
  },
  "language_info": {
   "codemirror_mode": {
    "name": "ipython",
    "version": 3
   },
   "file_extension": ".py",
   "mimetype": "text/x-python",
   "name": "python",
   "nbconvert_exporter": "python",
   "pygments_lexer": "ipython3",
   "version": "3.10.0"
  }
 },
 "nbformat": 4,
 "nbformat_minor": 5
}
